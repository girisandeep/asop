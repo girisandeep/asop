{
 "cells": [
  {
   "cell_type": "markdown",
   "metadata": {},
   "source": [
    "# Ancient Secrets of Prediction\n",
    "\n",
    "During the world war, the army need to predict the extact angle at which a bomb need to be thrown. Or predict the position where bomb will hit. In the ancient egypt, they need to predict the time of Solar eclips and the rains. If you look closely, every human science is evolved around predictions. We predict for survival. Actually, the brain roles is to predict for survival. The predictions are based on what we learnt from the past.\n",
    "\n",
    "As part of this tutorial, we are going to learn to predict using basic mathematics. This is usually called Machine Learning. We would start with extremely simple example and then we will gradually reach image recognition.\n",
    "\n",
    "We are not going to use any libraries such as Numpy, Scikit learn or Tensorflow. We will be coding most of the algorithms from scratch using Python. So, make yourselves confortable with Python."
   ]
  },
  {
   "cell_type": "markdown",
   "metadata": {},
   "source": [
    "## Simple Two variables\n",
    "\n",
    "**Q:** *On your first trip to super market, you purchased **three** apples and your overall expense was **six** dollars. On your second trip, you purchased **five** apples and it costed you **eight** dollars. Please note that the total expense also includes parking charges which is same in both the case. \n",
    "If you have to go to supermarket to buy **ten** apples, how much will it cost?*\n"
   ]
  },
  {
   "cell_type": "markdown",
   "metadata": {},
   "source": [
    "Before going further, please think for a moment and try to solve it.\n",
    "\n",
    "-----"
   ]
  },
  {
   "attachments": {
    "image.png": {
     "image/png": "[encoded data removed]"
    }
   },
   "cell_type": "markdown",
   "metadata": {},
   "source": [
    "To begin with, I want to stick to a standard formulation of such problem. So, I will introduce some symbols. These are pretty simple.\n",
    "\n",
    "We can simply say:\n",
    "\n",
    "$$ Expense = parking\\_charges + cost\\_of\\_apple * apples $$\n",
    "\n",
    "Or we can say, in general formal notation: \n",
    "\n",
    "$$y = \\beta0 + \\beta{1}*x1$$\n",
    "Where:\n",
    "\n",
    "$y - Expense$\n",
    "\n",
    "$\\beta{0} - Fixed\\ cost\\ i.e.\\ parking$\n",
    "\n",
    "$\\beta{1} - Cost\\ of\\ apples$\n",
    "\n",
    "You can also represent it using the line. Where y axis has expenses and x axis represents apples.\n",
    "![image.png](attachment:image.png)\n",
    "\n",
    "All we need to figure out is the equation of line.\n"
   ]
  },
  {
   "cell_type": "markdown",
   "metadata": {},
   "source": [
    "\n",
    "Now, lets fill-in the values. For the first trip, the equation is:\n",
    "$$6 = \\beta0 + \\beta{1}*3$$\n",
    "\n",
    "And for your second trip, the equation is:\n",
    "$$8 = \\beta0 + \\beta{1}*5$$\n",
    "\n",
    "Can you solve these equations for $\\beta0\\ and\\ \\beta{1}?$\n",
    "\n",
    "If you subtract first equation from second equation, you will get: $8 - 6 = \\beta{1}*2$\n",
    "Which means $\\beta{1}$ is 1\n",
    "\n",
    "If you take this value of $\\beta{1}$ and substitute in Equation 1. You can compute $\\beta{0}$:\n",
    "\n",
    "$6 = \\beta0 + 1 * 3$\n",
    "$\\beta0 = 3$\n",
    "\n",
    "So, your final equation is: $y = 3 + 1*x1$\n",
    "\n",
    "Now, we can answer the question about the expenses for 10 apples.\n",
    "$$y = 3 + 1*10 = 13$$\n",
    "\n",
    "**Expense is 13**"
   ]
  },
  {
   "cell_type": "markdown",
   "metadata": {},
   "source": [
    "## A simple three variables equation"
   ]
  },
  {
   "cell_type": "markdown",
   "metadata": {},
   "source": [
    "Very Simple right? The main idea was to give you an overview of symbols we are going to use.\n",
    "\n",
    "So, we figured out the model. The model is basically the line that is going thru the data points and once we have the model, we can quickly predict the outcome for unseen values.\n",
    "\n",
    "Now, let's level-up the game. What if we have three variables in the equation.\n",
    "\n",
    "Imagine that we are buying apples and mangoes this time and there is a parking charges on every trip.\n",
    "\n",
    "Here is the details of various expenses:\n",
    "\n",
    "$1 Apple + 1 Mango + Parking = 35$\n",
    "\n",
    "$3 Apples + 2 Mangoes + Parking = 75$\n",
    "\n",
    "$4 Apples + 3 Mangoes + Parking = 105$\n",
    "\n",
    "$5 Apples + 5 Mangoes + Parking = ???$\n"
   ]
  },
  {
   "cell_type": "markdown",
   "metadata": {},
   "source": [
    "Before going further, Please take time to solve this."
   ]
  },
  {
   "cell_type": "markdown",
   "metadata": {},
   "source": [
    "The approach to solving these three variable equations is to reduce these equations into two variable and then reduce two equations into one equation and solve it."
   ]
  },
  {
   "cell_type": "markdown",
   "metadata": {},
   "source": [
    "Lets rewite these equations:\n",
    "\n",
    "$A + M + P = 35$\n",
    "\n",
    "$3A + 2M + P = 75$\n",
    "\n",
    "$4A + 3M + P = 105$\n",
    "\n",
    "\n",
    "If we subtract first equation from second, we would get:\n",
    "$2A + M = 40$\n",
    "\n",
    "If we subtract second equation from third, we would get:\n",
    "$A + M = 30$"
   ]
  },
  {
   "cell_type": "markdown",
   "metadata": {},
   "source": [
    "Now, if subtract these last two equations, M will be eliminated, we will be able to find the value of A.\n",
    "\n",
    "A = 10\n",
    "\n",
    "Now, with this we can find value of M: 10 + M = 30\n",
    "\n",
    "Therefore, M = 20\n",
    "\n",
    "Now, putting it back in first equation, we can find Parking charges:\n",
    "\n",
    "10 + 20 + P = 35\n",
    "P = 5\n",
    "\n",
    "Now, once we know these three values, we can answer all the combinations of apples, mangoes and parking:\n",
    "$5 Apples + 5 Mangoes + Parking = 5*10 + 5*20 + 5 = 155$"
   ]
  },
  {
   "cell_type": "markdown",
   "metadata": {},
   "source": [
    "I am sure that most of the people would have no dificulty in following so far.\n",
    "\n",
    "We can actually solve the consecutive equations of any number of variable by following the same process as long as the equations are unique.\n",
    "\n",
    "For example, you can not find values of A, M, P from these three equations:\n",
    "\n",
    "$A + M + P = 35$\n",
    "\n",
    "$3A + 3M + 3P = 105$\n",
    "\n",
    "$2A + 2M + 2P = 70$"
   ]
  },
  {
   "cell_type": "markdown",
   "metadata": {},
   "source": [
    "## Solving it using code in Python"
   ]
  },
  {
   "cell_type": "markdown",
   "metadata": {},
   "source": [
    "-----\n",
    "\n",
    "*Now, can you write a program that can solve any number of consecutive equations?*\n",
    "\n",
    "Specifically, you need to write a python function that takes the equations as array of arrays and return an array containing the values of the variables.\n",
    "\n",
    "For example:\n",
    "<pre>\n",
    "eqns = [\n",
    "    [1, 1, 1, 35],\n",
    "    [3, 2, 1, 75],\n",
    "    [4, 3, 1, 105]\n",
    "   ]\n",
    "</pre>\n",
    "**solve(eqns)** should return $[10, 20, 5]$"
   ]
  },
  {
   "cell_type": "code",
   "execution_count": 14,
   "metadata": {},
   "outputs": [],
   "source": [
    "#TODO: Insert a video of the animation"
   ]
  },
  {
   "cell_type": "code",
   "execution_count": 11,
   "metadata": {},
   "outputs": [],
   "source": [
    "# It has two parts to it. In the first we will eliminate the variables as we go from top to bottom.\n",
    "def normalize(E):\n",
    "    for i in range(len(E)):\n",
    "        for j in range(i+1, len(E)):\n",
    "            mult = E[j][i]/E[i][i]\n",
    "            for k in range(i, len(E[i])):\n",
    "                E[j][k] -= E[i][k]*mult\n",
    "    return E"
   ]
  },
  {
   "cell_type": "code",
   "execution_count": 12,
   "metadata": {},
   "outputs": [],
   "source": [
    "# The second part involves solving the variables from bottom up:\n",
    "def solve_normalized(E):\n",
    "    solution = [0 for _ in range(len(E))]\n",
    "    i = len(E) - 1\n",
    "    k = len(E[0]) - 2\n",
    "    while i > -1:\n",
    "        row = E[i]\n",
    "        sm = 0\n",
    "        for kk in range(k+1, len(row) - 1):\n",
    "            sm += row[kk]*solution[kk]\n",
    "        solution[k] = (row[-1] - sm)/row[k]\n",
    "        i -= 1\n",
    "        k -= 1\n",
    "    return solution"
   ]
  },
  {
   "cell_type": "code",
   "execution_count": 13,
   "metadata": {},
   "outputs": [],
   "source": [
    "def solve(E):\n",
    "    E = normalize(E)\n",
    "    return solve_normalized(E)"
   ]
  },
  {
   "cell_type": "code",
   "execution_count": 18,
   "metadata": {},
   "outputs": [
    {
     "data": {
      "text/plain": [
       "[10.0, 20.0, 5.0]"
      ]
     },
     "execution_count": 18,
     "metadata": {},
     "output_type": "execute_result"
    }
   ],
   "source": [
    "# Lets test it out\n",
    "eqns = [\n",
    "    [1, 1, 1, 35],\n",
    "    [3, 2, 1, 75],\n",
    "    [4, 3, 1, 105]\n",
    "   ]\n",
    "solve(eqns)"
   ]
  },
  {
   "cell_type": "markdown",
   "metadata": {},
   "source": [
    "It works! You can try it with other consecutive equations. "
   ]
  },
  {
   "cell_type": "markdown",
   "metadata": {},
   "source": [
    "Question: If you have m equations, how many times will the loop run? Or what will be the order of complexity?\n"
   ]
  },
  {
   "cell_type": "markdown",
   "metadata": {},
   "source": [
    "The number of times the loop runs is of the order of approximately $n^3$ if $n$ is the number of equations or number of variables. "
   ]
  },
  {
   "cell_type": "markdown",
   "metadata": {},
   "source": [
    "If solving 4 variables equations is taking 1000 ms, solving 8 variables equations will take approximately how much time?\n",
    "\n",
    "- A. 2000 ms\n",
    "- B. 8000 ms\n",
    "- C. 1000 ms\n",
    "- D. Can't predict\n"
   ]
  },
  {
   "cell_type": "markdown",
   "metadata": {},
   "source": [
    "The answer is B. \n",
    "\n",
    "This also means that solving 40 variables is going to take 1 millions ms i.e. 1000 seconds."
   ]
  },
  {
   "cell_type": "markdown",
   "metadata": {},
   "source": [
    "## Solving Quadratic equation"
   ]
  },
  {
   "cell_type": "markdown",
   "metadata": {},
   "source": [
    "Now, imagine that the relationship between input and output is non linear. \n",
    "\n",
    "Say, you are have a website. If the traffic on your website is increasing, you need to add more servers. So, you need to predict the traffic on your website. The traffic is a non-linear function of time. It is basically a second-degree polynomial.\n",
    "\n",
    "| time   | traffic |\n",
    "| ----| --- |\n",
    "| 1   |6    |\n",
    "| 2   |12   |\n",
    "| 3   |20   |\n",
    "| 4   |??   |\n",
    "\n",
    "We need to predict the value of traffic at time = 4.\n",
    "\n",
    "How would we proceed? Give it a try by yourselves before proceeding.\n",
    "\n",
    "Please note that it is a very real scenerio. People do use this technique to predict the traffic."
   ]
  },
  {
   "cell_type": "markdown",
   "metadata": {},
   "source": [
    "Hint: assume the equation to be $traffic = a*t^2 + b*t + c$ and solve it for a, b and c"
   ]
  },
  {
   "cell_type": "markdown",
   "metadata": {},
   "source": [
    "Solution:\n",
    "\n",
    "After placing the values of t in this equation, we get three consecutive equations for a, b and c:\n",
    "\n",
    "$ a +  b + c = 6$\n",
    "\n",
    "$4a + 2b + c = 12$\n",
    "\n",
    "$9a + 3b + c = 20$\n"
   ]
  },
  {
   "cell_type": "code",
   "execution_count": 25,
   "metadata": {},
   "outputs": [],
   "source": [
    "# Lets use the above created code:\n",
    "eqn = [[1, 1, 1, 6], [4, 2, 1, 12], [9, 3, 1, 20]]\n",
    "result = solve(eqn)"
   ]
  },
  {
   "cell_type": "code",
   "execution_count": 26,
   "metadata": {},
   "outputs": [
    {
     "data": {
      "text/plain": [
       "[1.0, 3.0, 2.0]"
      ]
     },
     "execution_count": 26,
     "metadata": {},
     "output_type": "execute_result"
    }
   ],
   "source": [
    "result"
   ]
  },
  {
   "cell_type": "markdown",
   "metadata": {},
   "source": [
    "Now using these values we can calculate the traffic at t = 4\n",
    "\n",
    "$traffic = a*t^2 + b*t + c = 1.0*4^2 + 3.0*4 + 2.0 = 16 + 12 + 2 = 30$"
   ]
  },
  {
   "cell_type": "markdown",
   "metadata": {},
   "source": [
    "Lets make it a bit more automatic. \n",
    "We can express $a*t^2 + b*t + c$ as matrix multiplication of two things:"
   ]
  },
  {
   "cell_type": "markdown",
   "metadata": {},
   "source": [
    "$$a*t^2 + b*t + c = \\begin{vmatrix} a & b & c\\end{vmatrix} \\times \\begin{vmatrix}\n",
    "t^2 \\\\\n",
    "t \\\\\n",
    "1\n",
    "\\end{vmatrix}$$"
   ]
  },
  {
   "cell_type": "code",
   "execution_count": 35,
   "metadata": {},
   "outputs": [],
   "source": [
    "def multiply_vectors(A, B):\n",
    "    out = []\n",
    "    for i in range(len(A)):\n",
    "        out.append(A[i]*B[i])\n",
    "    return sum(out)"
   ]
  },
  {
   "cell_type": "code",
   "execution_count": 36,
   "metadata": {},
   "outputs": [
    {
     "data": {
      "text/plain": [
       "30.0"
      ]
     },
     "execution_count": 36,
     "metadata": {},
     "output_type": "execute_result"
    }
   ],
   "source": [
    "multiply_vectors(result, [4**2, 4, 1])"
   ]
  },
  {
   "cell_type": "markdown",
   "metadata": {},
   "source": [
    "If we want to fit a polynomial of n degree, many distinct data points do we need:\n",
    "\n",
    "1. $n^2$\n",
    "2. n + 1\n",
    "3. 1\n",
    "4. Impossible to determine\n",
    "\n",
    "Answer: n+1"
   ]
  },
  {
   "cell_type": "code",
   "execution_count": 48,
   "metadata": {},
   "outputs": [],
   "source": [
    "# Lets try to automate entire process\n",
    "\n",
    "def solve_poly(x, y, xp):\n",
    "    eqns = []\n",
    "    for i in range(len(x)):\n",
    "        eqn = [y[i]]\n",
    "        xcoeff = 1\n",
    "        for _ in range(len(x)):\n",
    "            eqn.append(xcoeff)\n",
    "            xcoeff *= x[i]\n",
    "        eqn.reverse()\n",
    "        eqns.append(eqn)\n",
    "#     print(eqns)\n",
    "    coeff = solve(eqns)\n",
    "#     print(coeff)\n",
    "    xpows = []\n",
    "    xpow = 1\n",
    "    for _ in range(len(x)):\n",
    "        xpows.append(xpow)\n",
    "        xpow *= xp\n",
    "    xpows.reverse()\n",
    "    return multiply_vectors(coeff, xpows)"
   ]
  },
  {
   "cell_type": "code",
   "execution_count": 49,
   "metadata": {},
   "outputs": [
    {
     "data": {
      "text/plain": [
       "30.0"
      ]
     },
     "execution_count": 49,
     "metadata": {},
     "output_type": "execute_result"
    }
   ],
   "source": [
    "solve_poly([1,2, 3], [6, 12, 20], 4)"
   ]
  },
  {
   "cell_type": "markdown",
   "metadata": {},
   "source": [
    "## Linear Approximation"
   ]
  },
  {
   "cell_type": "markdown",
   "metadata": {},
   "source": [
    "So far we have assumed that the curve is fitting perfectly. What if the curve doesn't fit properly? This could be because of multiple reasons:\n",
    "1. The underlying relationship is fairly complex\n",
    "2. There could be noise in the data"
   ]
  },
  {
   "cell_type": "code",
   "execution_count": 60,
   "metadata": {},
   "outputs": [],
   "source": [
    "x = np.array([1,2,3])\n",
    "y  = 4*x + 3 + 2*np.random.random((1,3))"
   ]
  },
  {
   "cell_type": "code",
   "execution_count": 61,
   "metadata": {
    "scrolled": true
   },
   "outputs": [
    {
     "data": {
      "text/plain": [
       "array([[ 8.47227525, 11.25775797, 16.38661711]])"
      ]
     },
     "execution_count": 61,
     "metadata": {},
     "output_type": "execute_result"
    }
   ],
   "source": [
    "y"
   ]
  },
  {
   "cell_type": "markdown",
   "metadata": {},
   "source": [
    "Imagine, there is a factory whose input and output are given as follows:\n",
    "\n",
    "| input   | output |\n",
    "| ---- | ---       |\n",
    "| 1   |8      |\n",
    "| 2   |10.5   |\n",
    "| 3   |16     |\n",
    "| 4   |??     |\n"
   ]
  },
  {
   "cell_type": "code",
   "execution_count": null,
   "metadata": {},
   "outputs": [],
   "source": []
  }
 ],
 "metadata": {
  "kernelspec": {
   "display_name": "Python 3",
   "language": "python",
   "name": "python3"
  },
  "language_info": {
   "codemirror_mode": {
    "name": "ipython",
    "version": 3
   },
   "file_extension": ".py",
   "mimetype": "text/x-python",
   "name": "python",
   "nbconvert_exporter": "python",
   "pygments_lexer": "ipython3",
   "version": "3.6.8"
  },
  "toc": {
   "base_numbering": 1,
   "nav_menu": {},
   "number_sections": true,
   "sideBar": true,
   "skip_h1_title": false,
   "title_cell": "Table of Contents",
   "title_sidebar": "Contents",
   "toc_cell": false,
   "toc_position": {},
   "toc_section_display": true,
   "toc_window_display": false
  }
 },
 "nbformat": 4,
 "nbformat_minor": 2
}
