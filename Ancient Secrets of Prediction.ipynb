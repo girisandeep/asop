{
 "cells": [
  {
   "cell_type": "markdown",
   "metadata": {},
   "source": [
    "# Ancient Secrets of Prediction\n",
    "\n",
    "During the world war, the army need to predict the extact angle at which a bomb need to be thrown. Or predict the position where bomb will hit. In the ancient egypt, they need to predict the time of Solar eclips and the rains. If you look closely, every human science is evolved around predictions. We predict for survival. Actually, the brain roles is to predict for survival. The predictions are based on what we learnt from the past.\n",
    "\n",
    "As part of this tutorial, we are going to learn to predict using basic mathematics. This is usually called Machine Learning. We would start with extremely simple example and then we will gradually reach image recognition.\n",
    "\n",
    "We are not going to use any libraries such as Numpy, Scikit learn or Tensorflow. We will be coding most of the algorithms from scratch using Python. So, make yourselves confortable with Python."
   ]
  },
  {
   "cell_type": "markdown",
   "metadata": {},
   "source": [
    "## Simple Two variables\n",
    "\n",
    "**Q:** *On your first trip to super market, you purchased **three** apples and your overall expense was **six** dollars. On your second trip, you purchased **five** apples and it costed you **eight** dollars. Please note that the total expense also includes parking charges which is same in both the case. \n",
    "If you have to go to supermarket to buy **ten** apples, how much will it cost?*\n"
   ]
  },
  {
   "cell_type": "markdown",
   "metadata": {},
   "source": [
    "Before going further, please think for a moment and try to solve it.\n",
    "\n",
    "-----"
   ]
  },
  {
   "cell_type": "markdown",
   "metadata": {},
   "source": [
    "To begin with, I want to stick to a standard formulation of such problem. So, I will introduce some symbols. These are pretty simple.\n",
    "\n",
    "We can simply say:\n",
    "\n",
    "$$ Expense = parking\\_charges + cost\\_of\\_apple * apples $$\n",
    "\n",
    "Or we can say, in general formal notation: \n",
    "\n",
    "$$y = \\beta0 + \\beta{1}*x1$$\n",
    "Where:\n",
    "\n",
    "$y - Expense$\n",
    "\n",
    "$\\beta{0} - Fixed\\ cost\\ i.e.\\ parking$\n",
    "\n",
    "$\\beta{1} - Cost\\ of\\ apples$\n",
    "\n",
    "Now, lets fill-in the values. For the first trip, the equation is:\n",
    "$$6 = \\beta0 + \\beta{1}*3$$\n",
    "\n",
    "And for your second trip, the equation is:\n",
    "$$8 = \\beta0 + \\beta{1}*5$$\n",
    "\n",
    "Can you solve these equations for $\\beta0\\ and\\ \\beta{1}?$\n",
    "\n",
    "If you subtract first equation from second equation, you will get: $8 - 6 = \\beta{1}*2$\n",
    "Which means $\\beta{1}$ is 1\n",
    "\n",
    "If you take this value of $\\beta{1}$ and substitute in Equation 1. You can compute $\\beta{0}$:\n",
    "\n",
    "$6 = \\beta0 + 1 * 3$\n",
    "$\\beta0 = 3$\n",
    "\n",
    "So, your final equation is: $y = 3 + 1*x1$\n",
    "\n",
    "Now, we can answer the question about the expenses for 10 apples.\n",
    "$$y = 3 + 1*10 = 13$$\n",
    "\n",
    "**Expense is 13**"
   ]
  },
  {
   "cell_type": "markdown",
   "metadata": {},
   "source": [
    "The other way to visualize it is by the way of drawing two points: (3, 6), (5,8).\n",
    "We are going to use a python library called matplotlib."
   ]
  },
  {
   "attachments": {
    "image.png": {
     "image/png": "[encoded data removed]"
    }
   },
   "cell_type": "markdown",
   "metadata": {},
   "source": [
    "![image.png](attachment:image.png)"
   ]
  },
  {
   "cell_type": "code",
   "execution_count": null,
   "metadata": {},
   "outputs": [],
   "source": []
  }
 ],
 "metadata": {
  "kernelspec": {
   "display_name": "Python 3",
   "language": "python",
   "name": "python3"
  },
  "language_info": {
   "codemirror_mode": {
    "name": "ipython",
    "version": 3
   },
   "file_extension": ".py",
   "mimetype": "text/x-python",
   "name": "python",
   "nbconvert_exporter": "python",
   "pygments_lexer": "ipython3",
   "version": "3.6.8"
  },
  "toc": {
   "base_numbering": 1,
   "nav_menu": {},
   "number_sections": true,
   "sideBar": true,
   "skip_h1_title": false,
   "title_cell": "Table of Contents",
   "title_sidebar": "Contents",
   "toc_cell": false,
   "toc_position": {},
   "toc_section_display": true,
   "toc_window_display": false
  }
 },
 "nbformat": 4,
 "nbformat_minor": 2
}
